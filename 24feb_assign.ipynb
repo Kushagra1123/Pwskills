{
 "cells": [
  {
   "cell_type": "markdown",
   "id": "f5c2fb85",
   "metadata": {},
   "source": [
    "#Q1\n",
    "Sure, here are five commonly used functions in pandas with examples of their execution:\n",
    "\n",
    "pd.read_csv(): This function is used to read a CSV file and create a pandas DataFrame.\n",
    "Example: df = pd.read_csv('data.csv')\n",
    "\n",
    "df.head(): This function is used to display the first n rows of a DataFrame. By default, n=5.\n",
    "Example: df.head()\n",
    "\n",
    "df.groupby(): This function is used to group a DataFrame by one or more columns and perform an aggregation on each group.\n",
    "Example: df.groupby('column_name').mean()\n",
    "\n",
    "df.merge(): This function is used to combine two or more DataFrames based on a common column or index."
   ]
  },
  {
   "cell_type": "code",
   "execution_count": 6,
   "id": "12d8f2f8",
   "metadata": {},
   "outputs": [
    {
     "name": "stdout",
     "output_type": "stream",
     "text": [
      "Before re-indexing:\n",
      "   A  B  C\n",
      "0  1  4  7\n",
      "1  2  5  8\n",
      "2  3  6  9\n",
      "After re-indexing:\n",
      "   A  B  C\n",
      "1  1  4  7\n",
      "3  2  5  8\n",
      "5  3  6  9\n"
     ]
    }
   ],
   "source": [
    "#Q2\n",
    "import pandas as pd\n",
    "\n",
    "def reindex_df(df):\n",
    "    new_index = pd.Index(range(1, len(df)*2, 2))\n",
    "    df.index = new_index\n",
    "    return df\n",
    "\n",
    "data = {'A': [1, 2, 3], 'B': [4, 5, 6], 'C': [7, 8, 9]}\n",
    "df = pd.DataFrame(data)\n",
    "\n",
    "print(\"Before re-indexing:\")\n",
    "print(df)\n",
    "\n",
    "df = reindex_df(df)\n",
    "\n",
    "print(\"After re-indexing:\")\n",
    "print(df)\n"
   ]
  },
  {
   "cell_type": "code",
   "execution_count": 7,
   "id": "e3376937",
   "metadata": {},
   "outputs": [],
   "source": [
    "#Q3\n",
    "import pandas as pd\n",
    "\n",
    "def calculate_sum(df):\n",
    "    total = 0\n",
    "    for i, row in df.iterrows():\n",
    "        if i >= 3:\n",
    "            break\n",
    "        total += row['Values']\n",
    "    print(\"Sum of first three values in 'Values' column:\", total)\n"
   ]
  },
  {
   "cell_type": "code",
   "execution_count": null,
   "id": "5a424572",
   "metadata": {},
   "outputs": [],
   "source": [
    "# Q4\n",
    "def add_word_count(df):\n",
    "    df['Word_Count'] = df['Text'].apply(lambda x: len(str(x).split()))\n",
    "    return df\n",
    "\n",
    "df = add_word_count(df)"
   ]
  },
  {
   "cell_type": "markdown",
   "id": "05f10b26",
   "metadata": {},
   "source": [
    "#Q5\n",
    "In Pandas, DataFrame.size and DataFrame.shape are two different methods used to get information about the DataFrame.\n",
    "\n",
    "DataFrame.size returns the total number of elements in the DataFrame, which is the product of the number of rows and the number of columns.\n",
    "\n",
    "DataFrame.shape returns a tuple representing the dimensions of the DataFrame in the form of (number of rows, number of columns).\n",
    "\n",
    "Therefore, DataFrame.size is the total number of elements in the DataFrame, whereas DataFrame.shape gives us the dimensions of the DataFrame.\n",
    "\n",
    "\n",
    "\n"
   ]
  },
  {
   "cell_type": "markdown",
   "id": "ea222319",
   "metadata": {},
   "source": [
    "#Q6\n",
    "The function used to read an Excel file in pandas is read_excel()."
   ]
  },
  {
   "cell_type": "code",
   "execution_count": 11,
   "id": "a2d5662e",
   "metadata": {},
   "outputs": [
    {
     "name": "stdout",
     "output_type": "stream",
     "text": [
      "              Email Username\n",
      "0  john@example.com     john\n",
      "1  jane@example.com     jane\n"
     ]
    }
   ],
   "source": [
    "#Q7\n",
    "import pandas as pd\n",
    "\n",
    "def extract_username(email):\n",
    "    return email.split('@')[0]\n",
    "\n",
    "# Example DataFrame\n",
    "df = pd.DataFrame({'Email': ['john@example.com', 'jane@example.com']})\n",
    "\n",
    "# Apply the 'extract_username' function to the 'Email' column\n",
    "df['Username'] = df['Email'].apply(extract_username)\n",
    "\n",
    "print(df)"
   ]
  },
  {
   "cell_type": "code",
   "execution_count": 12,
   "id": "74ff87d3",
   "metadata": {},
   "outputs": [
    {
     "name": "stdout",
     "output_type": "stream",
     "text": [
      "   A  B  C\n",
      "1  8  2  7\n",
      "2  6  9  4\n",
      "4  9  1  2\n"
     ]
    }
   ],
   "source": [
    "#Q8\n",
    "import pandas as pd\n",
    "\n",
    "# Example DataFrame\n",
    "df = pd.DataFrame({'A': [3, 8, 6, 2, 9], 'B': [5, 2, 9, 3, 1], 'C': [1, 7, 4, 5, 2]})\n",
    "\n",
    "# Function to select rows based on conditions\n",
    "def select_rows(df):\n",
    "    return df[(df['A'] > 5) & (df['B'] < 10)]\n",
    "\n",
    "# Call the function and store the result in a new DataFrame\n",
    "selected_df = select_rows(df)\n",
    "\n",
    "print(selected_df)"
   ]
  },
  {
   "cell_type": "code",
   "execution_count": 13,
   "id": "42cb897e",
   "metadata": {},
   "outputs": [
    {
     "name": "stdout",
     "output_type": "stream",
     "text": [
      "Mean: 5.5\n",
      "Median: 5.5\n",
      "Standard deviation: 2.449489742783178\n"
     ]
    }
   ],
   "source": [
    "#Q9\n",
    "import pandas as pd\n",
    "\n",
    "# Example DataFrame\n",
    "df = pd.DataFrame({'Values': [3, 5, 6, 8, 9, 2, 4, 7]})\n",
    "\n",
    "# Function to calculate mean, median, and standard deviation\n",
    "def calculate_statistics(df):\n",
    "    mean = df['Values'].mean()\n",
    "    median = df['Values'].median()\n",
    "    std = df['Values'].std()\n",
    "    return mean, median, std\n",
    "\n",
    "# Call the function and print the results\n",
    "mean, median, std = calculate_statistics(df)\n",
    "print(\"Mean:\", mean)\n",
    "print(\"Median:\", median)\n",
    "print(\"Standard deviation:\", std)\n"
   ]
  },
  {
   "cell_type": "code",
   "execution_count": 14,
   "id": "e81f5556",
   "metadata": {},
   "outputs": [
    {
     "name": "stdout",
     "output_type": "stream",
     "text": [
      "   Sales        Date  MovingAverage\n",
      "0     10  2022-02-20      10.000000\n",
      "1     12  2022-02-21      11.000000\n",
      "2      8  2022-02-22      10.000000\n",
      "3     15  2022-02-23      11.250000\n",
      "4     13  2022-02-24      11.600000\n",
      "5      9  2022-02-25      11.166667\n",
      "6     11  2022-02-26      11.142857\n",
      "7     14  2022-02-27      11.714286\n",
      "8     16  2022-02-28      12.285714\n",
      "9     12  2022-03-01      12.857143\n"
     ]
    }
   ],
   "source": [
    "#Q10\n",
    "import pandas as pd\n",
    "\n",
    "# Example DataFrame\n",
    "df = pd.DataFrame({'Sales': [10, 12, 8, 15, 13, 9, 11, 14, 16, 12],\n",
    "                   'Date': ['2022-02-20', '2022-02-21', '2022-02-22', '2022-02-23', '2022-02-24',\n",
    "                            '2022-02-25', '2022-02-26', '2022-02-27', '2022-02-28', '2022-03-01']})\n",
    "\n",
    "# Function to calculate moving average\n",
    "def calculate_moving_average(df):\n",
    "    ma = df['Sales'].rolling(window=7, min_periods=1).mean()\n",
    "    df['MovingAverage'] = ma\n",
    "    return df\n",
    "\n",
    "# Call the function and print the result\n",
    "result_df = calculate_moving_average(df)\n",
    "print(result_df)\n"
   ]
  },
  {
   "cell_type": "code",
   "execution_count": 15,
   "id": "9ec36276",
   "metadata": {},
   "outputs": [
    {
     "name": "stdout",
     "output_type": "stream",
     "text": [
      "        Date    Weekday\n",
      "0 2023-01-01     Sunday\n",
      "1 2023-01-02     Monday\n",
      "2 2023-01-03    Tuesday\n",
      "3 2023-01-04  Wednesday\n",
      "4 2023-01-05   Thursday\n"
     ]
    }
   ],
   "source": [
    "#Q11\n",
    "import pandas as pd\n",
    "\n",
    "# Example DataFrame\n",
    "df = pd.DataFrame({'Date': ['2023-01-01', '2023-01-02', '2023-01-03', '2023-01-04', '2023-01-05']})\n",
    "\n",
    "# Function to create weekday column\n",
    "def create_weekday_column(df):\n",
    "    df['Date'] = pd.to_datetime(df['Date'])\n",
    "    df['Weekday'] = df['Date'].dt.day_name()\n",
    "    return df\n",
    "\n",
    "# Call the function and print the result\n",
    "result_df = create_weekday_column(df)\n",
    "print(result_df)\n"
   ]
  },
  {
   "cell_type": "code",
   "execution_count": null,
   "id": "4812918f",
   "metadata": {},
   "outputs": [],
   "source": []
  }
 ],
 "metadata": {
  "kernelspec": {
   "display_name": "Python 3 (ipykernel)",
   "language": "python",
   "name": "python3"
  },
  "language_info": {
   "codemirror_mode": {
    "name": "ipython",
    "version": 3
   },
   "file_extension": ".py",
   "mimetype": "text/x-python",
   "name": "python",
   "nbconvert_exporter": "python",
   "pygments_lexer": "ipython3",
   "version": "3.9.12"
  }
 },
 "nbformat": 4,
 "nbformat_minor": 5
}
