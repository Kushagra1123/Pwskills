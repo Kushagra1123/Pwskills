{
 "cells": [
  {
   "cell_type": "code",
   "execution_count": 1,
   "id": "854e0644-fd5c-45f2-8f24-4bbd092062fa",
   "metadata": {},
   "outputs": [
    {
     "name": "stdout",
     "output_type": "stream",
     "text": [
      "0     4\n",
      "1     8\n",
      "2    15\n",
      "3    16\n",
      "4    23\n",
      "5    42\n",
      "dtype: int64\n"
     ]
    }
   ],
   "source": [
    "#Q1\n",
    "import pandas as pd\n",
    "\n",
    "# create a series with the given data\n",
    "data = [4, 8, 15, 16, 23, 42]\n",
    "series = pd.Series(data)\n",
    "\n",
    "# print the series\n",
    "print(series)"
   ]
  },
  {
   "cell_type": "code",
   "execution_count": 2,
   "id": "c1f9cdca-6a7d-4aff-aae1-5c8405fe5f8b",
   "metadata": {},
   "outputs": [
    {
     "name": "stdout",
     "output_type": "stream",
     "text": [
      "0     10\n",
      "1     20\n",
      "2     30\n",
      "3     40\n",
      "4     50\n",
      "5     60\n",
      "6     70\n",
      "7     80\n",
      "8     90\n",
      "9    100\n",
      "dtype: int64\n"
     ]
    }
   ],
   "source": [
    "#Q2\n",
    "# create a list with 10 elements\n",
    "my_list = [10, 20, 30, 40, 50, 60, 70, 80, 90, 100]\n",
    "\n",
    "# convert the list to a Pandas Series\n",
    "my_series = pd.Series(my_list)\n",
    "\n",
    "# print the series\n",
    "print(my_series)"
   ]
  },
  {
   "cell_type": "code",
   "execution_count": 3,
   "id": "8627d7e2-8f9b-4a25-97be-fb07ec26b650",
   "metadata": {},
   "outputs": [
    {
     "name": "stdout",
     "output_type": "stream",
     "text": [
      "      Name  Age      City\n",
      "0    Alice   25  New York\n",
      "1      Bob   30     Paris\n",
      "2  Charlie   35    London\n",
      "3    David   40     Tokyo\n"
     ]
    }
   ],
   "source": [
    "#Q3\n",
    "# create a dictionary with the given data\n",
    "data = {'Name': ['Alice', 'Bob', 'Charlie', 'David'],\n",
    "        'Age': [25, 30, 35, 40],\n",
    "        'City': ['New York', 'Paris', 'London', 'Tokyo']}\n",
    "\n",
    "# create a Pandas DataFrame from the dictionary\n",
    "df = pd.DataFrame(data)\n",
    "\n",
    "# print the DataFrame\n",
    "print(df)"
   ]
  },
  {
   "cell_type": "raw",
   "id": "377954ea-ad9d-41b3-b074-4ad739fa9dab",
   "metadata": {},
   "source": [
    "#Q4\n",
    "In Pandas, a DataFrame is a two-dimensional labeled data structure with columns of potentially different types. It is similar to a spreadsheet or a SQL table, where each column can have a different data type (e.g., integer, float, string) and can be named. A DataFrame can be thought of as a collection of Pandas Series, where each Series represents a column of data."
   ]
  },
  {
   "cell_type": "code",
   "execution_count": 4,
   "id": "a5393fac-46cb-44ae-b2f4-fed25bd07a6d",
   "metadata": {},
   "outputs": [
    {
     "name": "stdout",
     "output_type": "stream",
     "text": [
      "DataFrame:\n",
      "      Name  Age      City\n",
      "0    Alice   25  New York\n",
      "1      Bob   30     Paris\n",
      "2  Charlie   35    London\n",
      "\n",
      "Series:\n",
      "0    25\n",
      "1    30\n",
      "2    35\n",
      "Name: Age, dtype: int64\n"
     ]
    }
   ],
   "source": [
    "# create a dictionary with some data\n",
    "data = {'Name': ['Alice', 'Bob', 'Charlie'],\n",
    "        'Age': [25, 30, 35],\n",
    "        'City': ['New York', 'Paris', 'London']}\n",
    "\n",
    "# create a DataFrame from the dictionary\n",
    "df = pd.DataFrame(data)\n",
    "\n",
    "# create a Series from the 'Age' column of the DataFrame\n",
    "age_series = df['Age']\n",
    "\n",
    "# print the DataFrame and the Series\n",
    "print(\"DataFrame:\")\n",
    "print(df)\n",
    "print(\"\\nSeries:\")\n",
    "print(age_series)"
   ]
  },
  {
   "cell_type": "code",
   "execution_count": 5,
   "id": "07fe6889-0ff1-4669-bb4d-5d72766df5d1",
   "metadata": {},
   "outputs": [
    {
     "ename": "SyntaxError",
     "evalue": "illegal target for annotation (3854301698.py, line 2)",
     "output_type": "error",
     "traceback": [
      "\u001b[1;36m  Input \u001b[1;32mIn [5]\u001b[1;36m\u001b[0m\n\u001b[1;33m    head() and tail(): These functions allow you to view the top and bottom rows of the DataFrame, respectively. For example:\u001b[0m\n\u001b[1;37m    ^\u001b[0m\n\u001b[1;31mSyntaxError\u001b[0m\u001b[1;31m:\u001b[0m illegal target for annotation\n"
     ]
    }
   ],
   "source": [
    "#Q5\n",
    "head() and tail(): These functions allow you to view the top and bottom rows of the DataFrame, respectively. For example:\n",
    "python\n",
    "Copy code\n",
    "import pandas as pd\n",
    "\n",
    "df = pd.read_csv('my_data.csv')\n",
    "print(df.head()) # view the first 5 rows of the DataFrame\n",
    "print(df.tail()) # view the last 5 rows of the DataFrame\n",
    "describe(): This function provides descriptive statistics of the DataFrame, such as count, mean, standard deviation, minimum, maximum, and quartiles. For example:\n",
    "python\n",
    "Copy code\n",
    "import pandas as pd\n",
    "\n",
    "df = pd.read_csv('my_data.csv')\n",
    "print(df.describe()) # view descriptive statistics of the DataFrame\n",
    "groupby(): This function allows you to group the data in the DataFrame based on one or more columns and apply an aggregate function, such as sum, mean, or count. For example:\n",
    "python\n",
    "Copy code\n",
    "import pandas as pd\n",
    "\n",
    "df = pd.read_csv('my_data.csv')\n",
    "grouped_df = df.groupby('Category').sum() # group the data by category and calculate the sum of each group\n",
    "print(grouped_df) # view the grouped DataFrame"
   ]
  },
  {
   "cell_type": "markdown",
   "id": "c2fd4dc6-c09f-4fc7-bbc7-94f981e3eaa4",
   "metadata": {},
   "source": [
    "#Q6\n",
    "In Pandas, both Series and DataFrame are mutable in nature, meaning you can modify their contents, add or remove rows or columns, and update their values.\n",
    "\n",
    "However, Panel is deprecated in the latest version of Pandas, and its functionality is now provided by the MultiIndex DataFrame. MultiIndex DataFrame is also mutable in nature, like DataFrame and Series.\n",
    "\n",
    "\n",
    "\n"
   ]
  },
  {
   "cell_type": "code",
   "execution_count": null,
   "id": "d28414be-9d78-480d-901a-5b40d5717ad9",
   "metadata": {},
   "outputs": [],
   "source": []
  }
 ],
 "metadata": {
  "kernelspec": {
   "display_name": "Python 3 (ipykernel)",
   "language": "python",
   "name": "python3"
  },
  "language_info": {
   "codemirror_mode": {
    "name": "ipython",
    "version": 3
   },
   "file_extension": ".py",
   "mimetype": "text/x-python",
   "name": "python",
   "nbconvert_exporter": "python",
   "pygments_lexer": "ipython3",
   "version": "3.9.12"
  }
 },
 "nbformat": 4,
 "nbformat_minor": 5
}
