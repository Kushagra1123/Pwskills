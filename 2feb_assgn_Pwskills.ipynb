{
 "cells": [
  {
   "cell_type": "code",
   "execution_count": 9,
   "id": "62408d9b",
   "metadata": {},
   "outputs": [
    {
     "name": "stdout",
     "output_type": "stream",
     "text": [
      "1\n",
      "2\n",
      "3\n",
      "1\n",
      "2\n",
      "3\n",
      "4\n",
      "5\n"
     ]
    }
   ],
   "source": [
    "#  Question no. 1\n",
    "\"For Loop: A for loop is an iteration method that is best used when you know the number of iterations ahead of time\"\n",
    "#eg:\n",
    "n = [1, 2, 3]  \n",
    "for i in n:  \n",
    "    print(i)\n",
    "\n",
    "\n",
    "\"While Loop: A while loop is an iteration method that is best used when you don't know the number of iterations ahead of time.\"\n",
    "#eg:\n",
    "i = 1 \n",
    "while i < 6:  \n",
    "    print(i)\n",
    "    i += 1  "
   ]
  },
  {
   "cell_type": "code",
   "execution_count": 10,
   "id": "bf3a052b",
   "metadata": {},
   "outputs": [
    {
     "name": "stdout",
     "output_type": "stream",
     "text": [
      "55\n",
      "3628800\n"
     ]
    }
   ],
   "source": [
    "# Question no 2 (using while loop)\n",
    "sum_ = 0\n",
    "product = 1\n",
    "i= 1\n",
    "while i <=10:\n",
    "    sum_ +=i\n",
    "    product = product*i\n",
    "    i +=1\n",
    "print(sum_)\n",
    "print(product)"
   ]
  },
  {
   "cell_type": "code",
   "execution_count": 11,
   "id": "5d88a7b0",
   "metadata": {},
   "outputs": [
    {
     "name": "stdout",
     "output_type": "stream",
     "text": [
      "55\n",
      "3628800\n"
     ]
    }
   ],
   "source": [
    "# Question 2 (using for loop)\n",
    "num_sum =0\n",
    "num_product = 1\n",
    "for num in range(1,11):\n",
    "    num_sum += num\n",
    "    num_product = num_product*num\n",
    "print(num_sum)\n",
    "print(num_product)"
   ]
  },
  {
   "cell_type": "code",
   "execution_count": 12,
   "id": "11d5d8c9",
   "metadata": {},
   "outputs": [
    {
     "name": "stdout",
     "output_type": "stream",
     "text": [
      "please enter your monthly unit consumed ?310\n",
      "310 is your monthly unit and total bill is 2250\n"
     ]
    }
   ],
   "source": [
    "# Question no 3\n",
    "user_input = int(input(\"please enter your monthly unit consumed ?\"))\n",
    "bill = 0\n",
    "if user_input <= 100:\n",
    "    bill = user_input * 4.5\n",
    "    print(f\"{user_input} is your monthly unit and total bill is {bill}\")\n",
    "elif user_input <= 200:\n",
    "    bill = 450 + (user_input - 100) * 6\n",
    "    print(f\"{user_input} is your monthly unit and total bill is {bill}\")\n",
    "elif user_input <= 300:\n",
    "    bill = 450 + 600 + (user_input - 200) * 10\n",
    "    print(f\"{user_input} is your monthly unit and total bill is {bill}\")\n",
    "else:\n",
    "    bill = 450 + 600 + 1000 + (user_input - 300) * 20\n",
    "    print(f\"{user_input} is your monthly unit and total bill is {bill}\")"
   ]
  },
  {
   "cell_type": "code",
   "execution_count": 13,
   "id": "16b8580e",
   "metadata": {},
   "outputs": [
    {
     "name": "stdout",
     "output_type": "stream",
     "text": [
      "[2, 4, 5, 6, 8, 10, 12, 14, 15, 16, 18, 20, 22, 24, 25, 26, 28, 30, 32, 34, 35, 36, 38, 40, 42, 44, 45, 46, 48, 50, 52, 54, 55, 56, 58, 60, 62, 64, 65, 66, 68, 70, 72, 74, 75, 76, 78, 80, 82, 84, 85, 86, 88, 90, 92, 94, 95, 96, 98, 100]\n"
     ]
    }
   ],
   "source": [
    "# question no. 4\n",
    "\n",
    "nums = []\n",
    "for num in range(1, 101):\n",
    "    nums.append(num)\n",
    "\n",
    "new_list = []\n",
    "for num in nums:\n",
    "    cube = num * num\n",
    "    while cube % 5 == 0 or cube % 4 == 0:\n",
    "        new_list.append(num)\n",
    "        break\n",
    "print(new_list)\n"
   ]
  },
  {
   "cell_type": "code",
   "execution_count": 14,
   "id": "c131c6e4",
   "metadata": {},
   "outputs": [
    {
     "name": "stdout",
     "output_type": "stream",
     "text": [
      "12\n"
     ]
    }
   ],
   "source": [
    "#Question no. 5\n",
    "\n",
    "string = \"I want to become a data scientist\"\n",
    "count = 0\n",
    "for word in string:\n",
    "    vowel = [\"a\", \"i\", \"o\", \"u\", \"e\"]\n",
    "    if word.lower() in vowel:\n",
    "        count += 1\n",
    "print(count)"
   ]
  },
  {
   "cell_type": "code",
   "execution_count": null,
   "id": "a70892db",
   "metadata": {},
   "outputs": [],
   "source": []
  }
 ],
 "metadata": {
  "kernelspec": {
   "display_name": "Python 3 (ipykernel)",
   "language": "python",
   "name": "python3"
  },
  "language_info": {
   "codemirror_mode": {
    "name": "ipython",
    "version": 3
   },
   "file_extension": ".py",
   "mimetype": "text/x-python",
   "name": "python",
   "nbconvert_exporter": "python",
   "pygments_lexer": "ipython3",
   "version": "3.9.12"
  }
 },
 "nbformat": 4,
 "nbformat_minor": 5
}
