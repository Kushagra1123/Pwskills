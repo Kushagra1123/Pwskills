{
 "cells": [
  {
   "cell_type": "code",
   "execution_count": 1,
   "id": "63a210b9",
   "metadata": {},
   "outputs": [
    {
     "name": "stdout",
     "output_type": "stream",
     "text": [
      "Please enter your marks ?23\n",
      "Your grade is D\n"
     ]
    }
   ],
   "source": [
    "#Question no 1\n",
    "\n",
    "user_input = int(input(\"Please enter your marks ?\"))\n",
    "\n",
    "if user_input >90:\n",
    "    print(\"Your grade is A\")\n",
    "elif user_input > 80 :\n",
    "    print(\"Your grade is B\")\n",
    "elif user_input >=60:\n",
    "    print(\" Your grade is C\")\n",
    "else :\n",
    "    print(\"Your grade is D\")"
   ]
  },
  {
   "cell_type": "code",
   "execution_count": 2,
   "id": "807eb5e2",
   "metadata": {},
   "outputs": [
    {
     "name": "stdout",
     "output_type": "stream",
     "text": [
      "Please enter your car prize ?23\n",
      "Your road tax is 5%\n"
     ]
    }
   ],
   "source": [
    "# Question no. 2\n",
    "\n",
    "user_input = int(input(\"Please enter your car prize ?\"))\n",
    "\n",
    "if user_input > 100000:\n",
    "    print(\"Your road Tax  is 15%\")\n",
    "elif user_input > 50000 :\n",
    "    print(\"Your road tax is 10%\")\n",
    "else :\n",
    "    print(\"Your road tax is 5%\")"
   ]
  },
  {
   "cell_type": "code",
   "execution_count": 3,
   "id": "d615549d",
   "metadata": {},
   "outputs": [
    {
     "name": "stdout",
     "output_type": "stream",
     "text": [
      "Please write your City name ?22\n",
      "city data is not here.\n"
     ]
    }
   ],
   "source": [
    "# Question no. 3\n",
    "\n",
    "user_input = input(\"Please write your City name ?\").capitalize()\n",
    "city = {\"Delhi\" : \"Red fort\", \"Agra\":\"Tajmahal\", \"Jaipur\" : \"Jai Mahal\" }\n",
    "if user_input in city:\n",
    "    print(city[user_input])\n",
    "else:\n",
    "    print(\"city data is not here.\")"
   ]
  },
  {
   "cell_type": "code",
   "execution_count": 4,
   "id": "0ef99ca3",
   "metadata": {},
   "outputs": [
    {
     "name": "stdout",
     "output_type": "stream",
     "text": [
      "Please enter your no. ?11\n",
      "1\n"
     ]
    }
   ],
   "source": [
    "# Question no. 4\n",
    "\n",
    "user_input = int(input(\"Please enter your no. ?\"))\n",
    "count = 0\n",
    "while  user_input > 10:\n",
    "        user_input = user_input/3\n",
    "        count +=1        \n",
    "print(f\"{int(count)}\")\n",
    "                 "
   ]
  },
  {
   "cell_type": "code",
   "execution_count": 5,
   "id": "7be230c3",
   "metadata": {},
   "outputs": [
    {
     "name": "stdout",
     "output_type": "stream",
     "text": [
      "A \"While\" Loop is used to repeat a specific block of code an unknown number of times,\n",
      "until a condition is met. For example, if we want to ask a user for a number between 1 and 10,\n",
      "we don't know how many times the user may enter a larger number, so we keep asking \n",
      "\"while the number is not between 1 and 10\".\n",
      "10\n",
      "9\n",
      "8\n",
      "7\n",
      "6\n",
      "5\n",
      "4\n",
      "3\n",
      "2\n",
      "1\n"
     ]
    }
   ],
   "source": [
    "# Question no. 5\n",
    "while_loop = \"\"\"A \"While\" Loop is used to repeat a specific block of code an unknown number of times,\n",
    "until a condition is met. For example, if we want to ask a user for a number between 1 and 10,\n",
    "we don't know how many times the user may enter a larger number, so we keep asking \n",
    "\"while the number is not between 1 and 10\".\"\"\"\n",
    "print(while_loop)\n",
    "#example\n",
    "i = 10\n",
    "while i >0 :\n",
    "    print(i)\n",
    "    i -=1"
   ]
  },
  {
   "cell_type": "code",
   "execution_count": 6,
   "id": "c8b8e02e",
   "metadata": {},
   "outputs": [
    {
     "name": "stdout",
     "output_type": "stream",
     "text": [
      "Enter number of rows : 12\n",
      "* \n",
      "* * \n",
      "* * * \n",
      "* * * * \n",
      "* * * * * \n",
      "* * * * * * \n",
      "* * * * * * * \n",
      "* * * * * * * * \n",
      "* * * * * * * * * \n",
      "* * * * * * * * * * \n",
      "* * * * * * * * * * * \n",
      "* * * * * * * * * * * * \n"
     ]
    }
   ],
   "source": [
    "#Question 6.\n",
    "n = int(input('Enter number of rows : '))\n",
    " \n",
    "i = 1\n",
    "while i <= n :\n",
    "    j = 1\n",
    "    \n",
    "    while j <= i:\n",
    "        print(\"*\", end = \" \")\n",
    "        j += 1    \n",
    "        \n",
    "    print()\n",
    "    i += 1"
   ]
  },
  {
   "cell_type": "code",
   "execution_count": 7,
   "id": "0ab9f358",
   "metadata": {},
   "outputs": [
    {
     "name": "stdout",
     "output_type": "stream",
     "text": [
      "10\n",
      "9\n",
      "8\n",
      "7\n",
      "6\n",
      "5\n",
      "4\n",
      "3\n",
      "2\n",
      "1\n"
     ]
    }
   ],
   "source": [
    "# Question no. 7\n",
    "i = 10\n",
    "while i >0 :\n",
    "    print(i)\n",
    "    i -=1"
   ]
  },
  {
   "cell_type": "code",
   "execution_count": 8,
   "id": "bf9c014c",
   "metadata": {},
   "outputs": [
    {
     "name": "stdout",
     "output_type": "stream",
     "text": [
      "10\n",
      "9\n",
      "8\n",
      "7\n",
      "6\n",
      "5\n",
      "4\n",
      "3\n",
      "2\n",
      "1\n"
     ]
    }
   ],
   "source": [
    "# Question no. 8\n",
    "i = 10\n",
    "while i >0 :\n",
    "    print(i)\n",
    "    i -=1"
   ]
  },
  {
   "cell_type": "code",
   "execution_count": null,
   "id": "0c3dee66",
   "metadata": {},
   "outputs": [],
   "source": []
  }
 ],
 "metadata": {
  "kernelspec": {
   "display_name": "Python 3 (ipykernel)",
   "language": "python",
   "name": "python3"
  },
  "language_info": {
   "codemirror_mode": {
    "name": "ipython",
    "version": 3
   },
   "file_extension": ".py",
   "mimetype": "text/x-python",
   "name": "python",
   "nbconvert_exporter": "python",
   "pygments_lexer": "ipython3",
   "version": "3.9.12"
  }
 },
 "nbformat": 4,
 "nbformat_minor": 5
}
