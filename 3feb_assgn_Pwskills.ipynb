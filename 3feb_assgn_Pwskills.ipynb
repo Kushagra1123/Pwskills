{
 "cells": [
  {
   "cell_type": "code",
   "execution_count": 15,
   "id": "49d8bacd",
   "metadata": {},
   "outputs": [
    {
     "name": "stdout",
     "output_type": "stream",
     "text": [
      "[1, 3, 5, 7, 9, 11, 13, 15, 17, 19, 21, 23, 25]\n"
     ]
    }
   ],
   "source": [
    "# Question no. 1\n",
    "\n",
    "\"\"\" def is used to create a function\"\"\"\n",
    "\n",
    "\n",
    "def odd():\n",
    "    odd_num =[]\n",
    "    for num in range(1, 26):\n",
    "        if num % 2 != 0:\n",
    "            odd_num.append(num)\n",
    "\n",
    "    return odd_num\n",
    "\n",
    "\n",
    "print(odd())"
   ]
  },
  {
   "cell_type": "code",
   "execution_count": 16,
   "id": "95ff41a4",
   "metadata": {},
   "outputs": [
    {
     "name": "stdout",
     "output_type": "stream",
     "text": [
      "Sum: 22\n",
      "\n",
      "Data type of argument: <class 'dict'>\n",
      "Firstname is John\n",
      "Lastname is Wood\n",
      "Email is johnwood@nomail.com\n",
      "Country is Wakanda\n",
      "Age is 25\n",
      "Phone is 9876543210\n"
     ]
    }
   ],
   "source": [
    "#ques 2\n",
    "def adder(*num):\n",
    "    sum = 0\n",
    "\n",
    "    for n in num:\n",
    "        sum = sum + n\n",
    "\n",
    "    print(\"Sum:\", sum)\n",
    "\n",
    "\n",
    "adder(4, 5, 6, 7)\n",
    "\n",
    "\"\"\"**kwargs allows us to pass a variable number of keyword arguments to a Python function.\n",
    " In the function, we use the double-asterisk ( ** ) before the parameter name to denote this type of argument.\"\"\"\n",
    "\n",
    "\n",
    "def intro(**data):\n",
    "    print(\"\\nData type of argument:\", type(data))\n",
    "\n",
    "    for key, value in data.items():\n",
    "        print(\"{} is {}\".format(key, value))\n",
    "\n",
    "\n",
    "intro(Firstname=\"John\", Lastname=\"Wood\", Email=\"johnwood@nomail.com\", Country=\"Wakanda\", Age=25, Phone=9876543210)"
   ]
  },
  {
   "cell_type": "code",
   "execution_count": 17,
   "id": "24fe91c3",
   "metadata": {},
   "outputs": [
    {
     "name": "stdout",
     "output_type": "stream",
     "text": [
      "2\n",
      "4\n",
      "6\n",
      "8\n",
      "10\n"
     ]
    }
   ],
   "source": [
    "# question no. 3\n",
    "\"\"\"An iterator is an object that contains a countable number of values. An iterator is an\n",
    "object that can be iterated upon, meaning that you can traverse through all the values. \n",
    "Technically, in Python, an iterator is an object which implements \n",
    "the iterator protocol, which consist of the methods __iter__() and __next__() .\"\"\"\n",
    "\n",
    "\n",
    "list_num =  [2, 4, 6, 8, 10, 12, 14, 16, 18, 20]\n",
    "it = iter(list_num)\n",
    "\n",
    "for i in range(5):\n",
    "    print(next(it))"
   ]
  },
  {
   "cell_type": "code",
   "execution_count": 18,
   "id": "4b9c9a65",
   "metadata": {},
   "outputs": [
    {
     "name": "stdout",
     "output_type": "stream",
     "text": [
      "<class 'generator'>\n",
      "Hello world!!\n",
      "Geeksforgeeks\n"
     ]
    }
   ],
   "source": [
    "# Question no. 4\n",
    "\"\"\"In Python, a generator is a function that returns an iterator that produces a sequence of values when iterated over.\n",
    "Generators are useful when we want to produce a large sequence of values,\n",
    " but we don't want to store all of them in memory at once.\"\"\"\n",
    "\n",
    "\"\"\"The Yield keyword in Python is similar to a return statement used for returning values or objects in Python.\n",
    " However, there is a slight difference.\n",
    " The yield statement returns a generator object to the one who calls the function which contains yield,\n",
    "  instead of simply returning a value\"\"\"\n",
    "\n",
    "\n",
    "# example\n",
    "def fun_generator():\n",
    "    yield \"Hello world!!\"\n",
    "    yield \"Geeksforgeeks\"\n",
    "\n",
    "\n",
    "obj = fun_generator()\n",
    "\n",
    "print(type(obj))\n",
    "\n",
    "print(next(obj))\n",
    "print(next(obj))"
   ]
  },
  {
   "cell_type": "code",
   "execution_count": 13,
   "id": "6b80e010",
   "metadata": {},
   "outputs": [
    {
     "name": "stdout",
     "output_type": "stream",
     "text": [
      "[2, 4, 5, 6, 8, 10, 12, 14, 15, 16, 18, 20, 22, 24, 25, 26, 28, 30, 32, 34, 35, 36, 38, 40, 42, 44, 45, 46, 48, 50, 52, 54, 55, 56, 58, 60, 62, 64, 65, 66, 68, 70, 72, 74, 75, 76, 78, 80, 82, 84, 85, 86, 88, 90, 92, 94, 95, 96, 98, 100]\n"
     ]
    }
   ],
   "source": [
    "# question no. 4\n",
    "\n",
    "nums = []\n",
    "for num in range(1, 101):\n",
    "    nums.append(num)\n",
    "\n",
    "new_list = []\n",
    "for num in nums:\n",
    "    cube = num * num\n",
    "    while cube % 5 == 0 or cube % 4 == 0:\n",
    "        new_list.append(num)\n",
    "        break\n",
    "print(new_list)\n"
   ]
  },
  {
   "cell_type": "code",
   "execution_count": 19,
   "id": "9b3c857d",
   "metadata": {},
   "outputs": [
    {
     "name": "stdout",
     "output_type": "stream",
     "text": [
      "2\n",
      "3\n",
      "5\n",
      "7\n",
      "11\n",
      "13\n",
      "17\n",
      "19\n",
      "23\n",
      "29\n",
      "31\n",
      "37\n",
      "41\n",
      "43\n",
      "47\n",
      "49\n",
      "53\n",
      "59\n",
      "61\n",
      "67\n"
     ]
    }
   ],
   "source": [
    "\n",
    " # Question no 5\n",
    "    \n",
    "def prime_num():\n",
    "    num = 1\n",
    "    while num < 1000:\n",
    "        if num == 1:\n",
    "            num += 1\n",
    "        elif num == 2:\n",
    "            yield num\n",
    "            num += 1\n",
    "        elif num == 3:\n",
    "            yield num\n",
    "            num += 1\n",
    "        elif num == 5:\n",
    "            yield num\n",
    "            num += 1\n",
    "        elif num % 2 == 0 or num % 3 == 0 or num % 5 == 0:\n",
    "            num += 1\n",
    "        else:\n",
    "            yield num\n",
    "            num += 1\n",
    "\n",
    "\n",
    "values = prime_num()\n",
    "for i in range(20):\n",
    "    print(next(values))\n",
    "    "
   ]
  },
  {
   "cell_type": "code",
   "execution_count": null,
   "id": "4b3979ea",
   "metadata": {},
   "outputs": [],
   "source": []
  }
 ],
 "metadata": {
  "kernelspec": {
   "display_name": "Python 3 (ipykernel)",
   "language": "python",
   "name": "python3"
  },
  "language_info": {
   "codemirror_mode": {
    "name": "ipython",
    "version": 3
   },
   "file_extension": ".py",
   "mimetype": "text/x-python",
   "name": "python",
   "nbconvert_exporter": "python",
   "pygments_lexer": "ipython3",
   "version": "3.9.12"
  }
 },
 "nbformat": 4,
 "nbformat_minor": 5
}
