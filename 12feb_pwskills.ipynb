{
 "cells": [
  {
   "cell_type": "code",
   "execution_count": 2,
   "id": "a8c9a00d",
   "metadata": {},
   "outputs": [],
   "source": [
    "#1.what is Exception in python? Write the difference between Exceptions and Syntax errors.\n",
    "#Ans- An exception is an event,which occurs duringthe execution of a program that disrupts the normal flow of the program's instructions.In general,when python encounters a situation that it cannot cope with,it raises an exception,An exception is a python object that represents an error.\n",
    "\n",
    "##Both exception and errors are the subclasses of a throwable class. The error implies the problem that mostly arises due to the shortage of system resources.on the"
   ]
  },
  {
   "cell_type": "code",
   "execution_count": 3,
   "id": "f53ab037",
   "metadata": {},
   "outputs": [],
   "source": [
    "# 2.What happens when an exception is not handled? Explain with an example ?\n",
    "# Ans - \n",
    "#       It will cause the program to terminate abruptly and display message to the user,which can lead to data loss or other consequences.\n",
    "    \n",
    "#       The exception is raised after the finally clause has been executed.\n",
    "    \n",
    "#     for example -\n",
    "#     def divide(x,y):\n",
    "#         return x / y\n",
    "    \n",
    "#     a = 10\n",
    "#     b = 0\n",
    "#     result = divide(a,b)\n",
    "#     print(result)\n",
    "    \n",
    "#     This code will raise a 'ZeroDivisionError' because we are trying to divide by zero.\n",
    "                 \n",
    "              "
   ]
  },
  {
   "cell_type": "code",
   "execution_count": 4,
   "id": "30f4310a",
   "metadata": {},
   "outputs": [],
   "source": [
    "# 3.Which python statements are used to catch and handle exceptions? Explain with an example.\n",
    "\n",
    "# Ans-\n",
    "\n",
    "#    In python,'try-except'statements are used to catch and handle exceptions.The 'try' block contains the code that might raise an exception,and the 'except'block contains the code that is executed if an exception is raised.\n",
    "    \n",
    "#     for example -\n",
    "#                   x = 10/0\n",
    "#         except ZeroDivisionError:\n",
    "#             print(\"Cannot divide by zero\")"
   ]
  },
  {
   "cell_type": "code",
   "execution_count": 5,
   "id": "11c03136",
   "metadata": {},
   "outputs": [],
   "source": [
    "# 3.Explain with an Example:\n",
    "#     a. try and else\n",
    "#     b. finally\n",
    "#     c. raise\n",
    "    \n",
    "# Ans-\n",
    "#     try:\n",
    "#         x = 10/0\n",
    "#     except ZeroDivisionError:\n",
    "#         print(\"cannot divide by zero\")\n",
    "#     else:\n",
    "#         print(\"Division Successful\")\n",
    "#     finally:\n",
    "#         print(\"This block always executes\")\n",
    "#         raise ValueError(\"Custom error message\")\n",
    "        \n",
    "# In this example,the 'try' block attempts to divide the number 10 by zero,which raises a 'ZeroDivisionError' exception.The 'except'block catches the exception and prints a message indicating that division by zero is not allowed.\n",
    "\n",
    "# Since the exception was caught and handled by the'except'block,the code in the 'else'block is executed,which prints a message indicating that the division was successful.\n",
    "\n",
    "# 'finally' block is executed,which always runs ragardless of whether an exception "
   ]
  },
  {
   "cell_type": "code",
   "execution_count": 6,
   "id": "151fc1f7",
   "metadata": {},
   "outputs": [],
   "source": [
    "# 5.What are custom Exception in python? Why do need custom Exceptions?Explain with an example.\n",
    "\n",
    "# Ans- In python,custom exceptions are user-defined exceptions that allow you to create and raise your own exceptions in your code.They are usefulwhen you want to create a specific exception for a particular situation that is not covered by the built-in exceptions. We need custom exceptions to add more meaning and context to the exception raised by our code.By creating custom exceptions,we can provide more specific and informative error messages that can help with debugging and troubleshooting our code.\n",
    "\n",
    "# Here is an example of how to create and use a costum exception in python:\n",
    "\n",
    "# class CustomException(Exception): pass\n",
    "\n",
    "# def divide(a, b): if b == 0: raise CustomException(\"Cannot divide by zero\") return a / b\n",
    "\n",
    "# try: result = divide(10, 0) except CustomException as e: print(e)"
   ]
  },
  {
   "cell_type": "code",
   "execution_count": 7,
   "id": "61d74cf9",
   "metadata": {},
   "outputs": [],
   "source": [
    "# In this example,we define a custom exception called\"CustomException\" by creating a new class that inherits from the built-in 'exception' class.We can then define a function called 'divide' that raises the custom exception if the second argument(denominator) is zero.\n",
    "\n",
    "# We then use a 'try-except'block to call the'divide' function with the argumnets 10 and 0.Since the denominator is zero,the 'divide' function raises the custom exception,which is caught by the 'except' block.The error messages'cannot divide by zero' is printed to the console.\n",
    "\n",
    "# overall,this example demonstrate how to create and use a custom exception to handl"
   ]
  },
  {
   "cell_type": "code",
   "execution_count": 9,
   "id": "cf5d2032",
   "metadata": {},
   "outputs": [
    {
     "ename": "SyntaxError",
     "evalue": "invalid syntax (799559894.py, line 1)",
     "output_type": "error",
     "traceback": [
      "\u001b[1;36m  Input \u001b[1;32mIn [9]\u001b[1;36m\u001b[0m\n\u001b[1;33m    6.Create a custom exception class.Use this class to handle an exception.\u001b[0m\n\u001b[1;37m      ^\u001b[0m\n\u001b[1;31mSyntaxError\u001b[0m\u001b[1;31m:\u001b[0m invalid syntax\n"
     ]
    }
   ],
   "source": [
    "6.Create a custom exception class.Use this class to handle an exception.\n",
    "Ans-\n",
    "class NegativeNUmberException(Exception):\n",
    "        pass\n",
    "def square_root(x):\n",
    "        if x < 0:\n",
    "            raise NegativeNumberException(\"Cannot take square root of a negative number\")\n",
    "        return x ** 0.5\n",
    "try :\n",
    "    result = square_root(-1)\n",
    "except NegativeNumberException as e:\n",
    "     print(e)\n",
    "        \n",
    "We define a custom exception class called \"NegativeNumberException\" by creating a new class that inherits from the built-in 'exception' class.\n",
    "We define a function called 'square_root' that raises the custom exception if the input argument is negative.\n",
    "\n",
    "We then use 'try-except'block to call the'square-root' function with the argument-1.Since the input is negative the 'square_root'function raises the custom exceptions,which is caugh"
   ]
  },
  {
   "cell_type": "code",
   "execution_count": null,
   "id": "c9653020",
   "metadata": {},
   "outputs": [],
   "source": []
  }
 ],
 "metadata": {
  "kernelspec": {
   "display_name": "Python 3 (ipykernel)",
   "language": "python",
   "name": "python3"
  },
  "language_info": {
   "codemirror_mode": {
    "name": "ipython",
    "version": 3
   },
   "file_extension": ".py",
   "mimetype": "text/x-python",
   "name": "python",
   "nbconvert_exporter": "python",
   "pygments_lexer": "ipython3",
   "version": "3.9.12"
  }
 },
 "nbformat": 4,
 "nbformat_minor": 5
}
