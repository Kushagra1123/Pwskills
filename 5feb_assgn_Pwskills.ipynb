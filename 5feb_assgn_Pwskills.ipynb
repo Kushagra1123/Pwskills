{
 "cells": [
  {
   "cell_type": "code",
   "execution_count": 27,
   "id": "b369366a",
   "metadata": {},
   "outputs": [],
   "source": [
    "# Q1. Explain Class and Object with respect to Object-Oriented Programming. Give a suitable example."
   ]
  },
  {
   "cell_type": "code",
   "execution_count": 28,
   "id": "7595caa3",
   "metadata": {},
   "outputs": [],
   "source": [
    "#A class can be understood as a template or a blueprint, which contains some values, known as data members, and some set of rules, known as behaviors #or methods. The data and methods that are defined in the class are automatically taken when an object is created. The class is a template or blueprint #for objects. One can make as many objects as they want to be based on a class.\n",
    "\n",
    "#For example, the template for the car is created first after that multiple units or objects of cars can be created based on the template. And each of #the objects must have the data and methods mentioned in the blueprint.\n",
    "\n",
    "#A class is a set of traits and features that define an object. It is a blueprint which must be implemented by each of its objects.\n",
    "\n",
    "#For example: If we define a blueprint of human beings then it can have attributes like Name, Age, Gender, Occupation and functionalities like Walk(),"
   ]
  },
  {
   "cell_type": "code",
   "execution_count": 29,
   "id": "b613ca18",
   "metadata": {},
   "outputs": [],
   "source": [
    "#A class contains the properties and behaviour for a set of objects, many objects can be formed using a class.\n",
    "\n",
    "#Take the example of a dog as an object.\n",
    "#There are different varieties of dogs that means different varieties of objects according to the dog class. For example, one dog has black color, #another dog may have grey color, or white, etc.\n",
    "#However, we can notice that most of the behaviours are the same like barking, wagging their tail, eating, sleeping, etc.\n",
    "#Properties and behaviour of these objects can be the same but their values would be different."
   ]
  },
  {
   "cell_type": "code",
   "execution_count": 30,
   "id": "bb731a9e",
   "metadata": {},
   "outputs": [],
   "source": [
    "# Q2. Name the four pillars of OOPs."
   ]
  },
  {
   "cell_type": "code",
   "execution_count": 31,
   "id": "df3bab0b",
   "metadata": {},
   "outputs": [],
   "source": [
    "#The four pillars of object-oriented programming are:\n",
    "\n",
    "#Abstraction\n",
    "\n",
    "#Encapsulation\n",
    "\n",
    "#Inheritance\n",
    "\n",
    "#Polymorphism"
   ]
  },
  {
   "cell_type": "code",
   "execution_count": 32,
   "id": "daacb52e",
   "metadata": {},
   "outputs": [],
   "source": [
    "#Q3\n",
    "#Explain why the __init__() function is used. Give a suitable example."
   ]
  },
  {
   "cell_type": "code",
   "execution_count": 33,
   "id": "9bf1fb20",
   "metadata": {},
   "outputs": [],
   "source": [
    "# 1   __int__() is basically the constructor used to initialise the values in an object.\n",
    "\n",
    "# 2   A constructor contains a collection of statements(i.e. instructions) that are executed at the time of Object creation. It is run as soon as an"
   ]
  },
  {
   "cell_type": "code",
   "execution_count": 34,
   "id": "dbf6b24c",
   "metadata": {},
   "outputs": [],
   "source": [
    "# example :-\n",
    "\n",
    "class pwskills1:\n",
    "    def __init__(self,phone_number, email_id,student_id):\n",
    "        self.phone_number=phone_number\n",
    "        self.email_id=email_id\n",
    "        self.student_id=student_id\n",
    "    def return_student_details(self):\n",
    "        return  self.phone_number, self.email_id,self.student_id\n",
    "   "
   ]
  },
  {
   "cell_type": "code",
   "execution_count": 35,
   "id": "ee50f69c",
   "metadata": {},
   "outputs": [],
   "source": [
    "rohan=pwskills1(6969696969,\"rohan69@gmail.com\",101)\n"
   ]
  },
  {
   "cell_type": "code",
   "execution_count": 36,
   "id": "e90e6eb9",
   "metadata": {},
   "outputs": [
    {
     "data": {
      "text/plain": [
       "(6969696969, 'rohan69@gmail.com', 101)"
      ]
     },
     "execution_count": 36,
     "metadata": {},
     "output_type": "execute_result"
    }
   ],
   "source": [
    "rohan.return_student_details()"
   ]
  },
  {
   "cell_type": "code",
   "execution_count": 37,
   "id": "47269f3c",
   "metadata": {},
   "outputs": [],
   "source": [
    "# Q4. Why self is used in OOPs?"
   ]
  },
  {
   "cell_type": "code",
   "execution_count": 38,
   "id": "38a0ef50",
   "metadata": {},
   "outputs": [],
   "source": [
    "#1) self represents the instance of the class. By using the “self”  we can access the attributes and methods of the class in python.\n",
    "#2) It binds the attributes with the given arguments.\n",
    "#3)The reason you need to use self is because Python does not use the @ syntax to refer to instance attributes. Python decided to do methods in a way #that makes the instance to which the method belongs be passed automatically, but not received automatically: the first parameter of methods is the #instance the method is called on.\n",
    "#using self\n",
    "#example below \n"
   ]
  },
  {
   "cell_type": "code",
   "execution_count": 40,
   "id": "d7a0edb5",
   "metadata": {},
   "outputs": [],
   "source": [
    "class pwskills:\n",
    "    \n",
    "    def welcome_msg(self):# self is used to bind the class properties to class\n",
    "        print(\"welcome to pwskills\")"
   ]
  },
  {
   "cell_type": "code",
   "execution_count": 41,
   "id": "dc25a903",
   "metadata": {},
   "outputs": [],
   "source": [
    "rohan=pwskills() # class ka object/instane\n"
   ]
  },
  {
   "cell_type": "code",
   "execution_count": 42,
   "id": "125003a8",
   "metadata": {},
   "outputs": [
    {
     "name": "stdout",
     "output_type": "stream",
     "text": [
      "welcome to pwskills\n"
     ]
    }
   ],
   "source": [
    "rohan.welcome_msg()"
   ]
  },
  {
   "cell_type": "code",
   "execution_count": 43,
   "id": "3cd28fb7",
   "metadata": {},
   "outputs": [],
   "source": [
    "# It does not have to be named self , you can call it whatever you like, but it has to be the first parameter of any function in the class:\n",
    "# using self is not compulsary, we can use other key word of our choice as well \n",
    "# for example \n",
    "class pwskills3:\n",
    "    def __init__(sudh,phone_number, email_id,student_id):\n",
    "        sudh.phone_number1=phone_number\n",
    "        sudh.email_id1=email_id\n",
    "        sudh.student_id1=student_id\n",
    "    def return_student_details(sudh):\n",
    "        return  sudh.phone_number1, sudh.email_id1,sudh.student_id1"
   ]
  },
  {
   "cell_type": "code",
   "execution_count": 44,
   "id": "427f9753",
   "metadata": {},
   "outputs": [],
   "source": [
    "rohan=pwskills3(3456788,\"rohan@gmail.com\",345)"
   ]
  },
  {
   "cell_type": "code",
   "execution_count": 45,
   "id": "bb3cf655",
   "metadata": {},
   "outputs": [
    {
     "data": {
      "text/plain": [
       "(3456788, 'rohan@gmail.com', 345)"
      ]
     },
     "execution_count": 45,
     "metadata": {},
     "output_type": "execute_result"
    }
   ],
   "source": [
    "rohan.return_student_details()"
   ]
  },
  {
   "cell_type": "code",
   "execution_count": 46,
   "id": "fa2a276e",
   "metadata": {},
   "outputs": [
    {
     "name": "stdout",
     "output_type": "stream",
     "text": [
      "Amazon is an Online Ecommerce Store\n",
      "Ebay is an Online Store\n",
      "OLX is an Online Buy Sell Store\n"
     ]
    }
   ],
   "source": [
    "#Q5\n",
    "#syntax_of_single_inheritance\n",
    "\n",
    "class Brands:               #parent_class\n",
    "    brand_name_1 = \"Amazon\"\n",
    "    brand_name_2 = \"Ebay\"\n",
    "    brand_name_3 = \"OLX\"\n",
    "    \n",
    "class Products(Brands):       #child_class\n",
    "    prod_1 = \"Online Ecommerce Store\"\n",
    "    prod_2 = \"Online Store\"\n",
    "    prod_3 = \"Online Buy Sell Store\"\n",
    "    \n",
    "obj_1 = Products()          #Object_creation\n",
    "print(obj_1.brand_name_1+\" is an \"+obj_1.prod_1)\n",
    "print(obj_1.brand_name_2+\" is an \"+obj_1.prod_2)\n",
    "print(obj_1.brand_name_3+\" is an \"+obj_1.prod_3)"
   ]
  },
  {
   "cell_type": "code",
   "execution_count": 47,
   "id": "d485c2ed",
   "metadata": {},
   "outputs": [
    {
     "name": "stdout",
     "output_type": "stream",
     "text": [
      "Amazon is an Online Ecommerce Store\n",
      "Ebay is an Online Store\n",
      "OLX is an Online Buy Sell Store\n"
     ]
    }
   ],
   "source": [
    "#example_of_multiple_inheritance\n",
    "\n",
    "class Brands:               #parent_class\n",
    "    brand_name_1 = \"Amazon\"\n",
    "    brand_name_2 = \"Ebay\"\n",
    "    brand_name_3 = \"OLX\"\n",
    "    \n",
    "class Products:            #child_class\n",
    "    prod_1 = \"Online Ecommerce Store\"\n",
    "    prod_2 = \"Online Store\"\n",
    "    prod_3 = \"Online Buy Sell Store\"\n",
    "\n",
    "class Popularity(Brands,Products):\n",
    "    prod_1_popularity = 100\n",
    "    prod_2_popularity = 70\n",
    "    prod_3_popularity = 60\n",
    "    \n",
    "obj_1 = Popularity()          #Object_creation\n",
    "print(obj_1.brand_name_1+\" is an \"+obj_1.prod_1)\n",
    "print(obj_1.brand_name_2+\" is an \"+obj_1.prod_2)\n",
    "print(obj_1.brand_name_3+\" is an \"+obj_1.prod_3)"
   ]
  },
  {
   "cell_type": "code",
   "execution_count": 48,
   "id": "2395ce3c",
   "metadata": {},
   "outputs": [
    {
     "name": "stdout",
     "output_type": "stream",
     "text": [
      "Amazon is an Online Ecommerce Store popularity of 100\n",
      "Ebay is an Online Store popularity of 70\n",
      "OLX is an Online Buy Sell Store popularity of 60\n"
     ]
    }
   ],
   "source": [
    "\n",
    "class Brands:                      #parent_class\n",
    "    brand_name_1 = \"Amazon\"\n",
    "    brand_name_2 = \"Ebay\"\n",
    "    brand_name_3 = \"OLX\"\n",
    "    \n",
    "class Products(Brands):            #child_class\n",
    "    prod_1 = \"Online Ecommerce Store\"\n",
    "    prod_2 = \"Online Store\"\n",
    "    prod_3 = \"Online Buy Sell Store\"\n",
    "\n",
    "class Popularity(Products):        #grand_child_class\n",
    "    prod_1_popularity = 100\n",
    "    prod_2_popularity = 70\n",
    "    prod_3_popularity = 60\n",
    "    \n",
    "    \n",
    "obj_1 = Popularity()          #Object_creation\n",
    "print(obj_1.brand_name_1+\" is an \"+obj_1.prod_1+\" popularity of \"+str(obj_1.prod_1_popularity))\n",
    "print(obj_1.brand_name_2+\" is an \"+obj_1.prod_2+\" popularity of \"+str(obj_1.prod_2_popularity))\n",
    "print(obj_1.brand_name_3+\" is an \"+obj_1.prod_3+\" popularity of \"+str(obj_1.prod_3_popularity))"
   ]
  },
  {
   "cell_type": "code",
   "execution_count": 50,
   "id": "aedbbe85",
   "metadata": {},
   "outputs": [
    {
     "name": "stdout",
     "output_type": "stream",
     "text": [
      "Amazon is an Online Ecommerce Store\n",
      "Amazon is an Online Ecommerce Store\n",
      "Amazon is an Online Ecommerce Store\n"
     ]
    }
   ],
   "source": [
    "#example\n",
    "\n",
    "class Brands:                      #parent_class\n",
    "    brand_name_1 = \"Amazon\"\n",
    "    brand_name_2 = \"Ebay\"\n",
    "    brand_name_3 = \"OLX\"\n",
    "    \n",
    "class Products(Brands):            #child_class\n",
    "    prod_1 = \"Online Ecommerce Store\"\n",
    "    prod_2 = \"Online Store\"\n",
    "    prod_3 = \"Online Buy Sell Store\"\n",
    "\n",
    "class Popularity(Brands):        #grand_child_class\n",
    "    prod_1_popularity = 100\n",
    "    prod_2_popularity = 70\n",
    "    prod_3_popularity = 60\n",
    "\n",
    "class Value(Brands):\n",
    "    prod_1_value = \"Excellent Value\"\n",
    "    prod_2_value = \"Better Value\"\n",
    "    prod_3_value = \"Good Value\"\n",
    "    \n",
    "obj_1 = Products()          #Object_creation\n",
    "obj_2 = Popularity()\n",
    "obj_3 = Value()\n",
    "print(obj_1.brand_name_1+\" is an \"+obj_1.prod_1)\n",
    "print(obj_1.brand_name_1+\" is an \"+obj_1.prod_1)\n",
    "print(obj_1.brand_name_1+\" is an \"+obj_1.prod_1)"
   ]
  },
  {
   "cell_type": "code",
   "execution_count": 51,
   "id": "be2f3c18",
   "metadata": {},
   "outputs": [
    {
     "name": "stdout",
     "output_type": "stream",
     "text": [
      "This is Student class inheriting PC and Laptop\n",
      "This is Mouse class inheriting Laptop class\n"
     ]
    }
   ],
   "source": [
    "#Example_Hybrid_inheritance\n",
    "class PC:\n",
    "\tdef fun1(self):\n",
    "\t\tprint(\"This is PC class\")\n",
    "\n",
    "class Laptop(PC):\n",
    "\tdef fun2(self):\n",
    "\t\tprint(\"This is Laptop class inheriting PC class\")\n",
    "\n",
    "class Mouse(Laptop):\n",
    "\tdef fun3(self):\n",
    "\t\tprint(\"This is Mouse class inheriting Laptop class\")\n",
    "\n",
    "class Student(Mouse, Laptop):\n",
    "\tdef fun4(self):\n",
    "\t\tprint(\"This is Student class inheriting PC and Laptop\")\n",
    "\n",
    "# Driver’s code\n",
    "obj = Student()\n",
    "obj1 = Mouse()\n",
    "obj.fun4()\n",
    "obj.fun3()"
   ]
  },
  {
   "cell_type": "code",
   "execution_count": null,
   "id": "8fe1276f",
   "metadata": {},
   "outputs": [],
   "source": []
  }
 ],
 "metadata": {
  "kernelspec": {
   "display_name": "Python 3 (ipykernel)",
   "language": "python",
   "name": "python3"
  },
  "language_info": {
   "codemirror_mode": {
    "name": "ipython",
    "version": 3
   },
   "file_extension": ".py",
   "mimetype": "text/x-python",
   "name": "python",
   "nbconvert_exporter": "python",
   "pygments_lexer": "ipython3",
   "version": "3.9.12"
  }
 },
 "nbformat": 4,
 "nbformat_minor": 5
}
